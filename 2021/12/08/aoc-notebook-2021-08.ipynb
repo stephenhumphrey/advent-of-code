{
 "cells": [
  {
   "cell_type": "code",
   "execution_count": 1,
   "id": "ed897bf3",
   "metadata": {},
   "outputs": [
    {
     "name": "stdout",
     "output_type": "stream",
     "text": [
      "https://raw.githubusercontent.com/stephenhumphrey/advent-of-code/main/2021/12/08/demo-data.txt\n",
      "https://raw.githubusercontent.com/stephenhumphrey/advent-of-code/main/2021/12/08/puzzle-data.txt\n"
     ]
    }
   ],
   "source": [
    "import requests\n",
    "\n",
    "use_real_puzzle_data = False # else use demo data\n",
    "separator = '\\n' if True else ','\n",
    "\n",
    "github_site_user = \"https://raw.githubusercontent.com/stephenhumphrey/\"\n",
    "repository_branch = \"advent-of-code/main/\"\n",
    "demo_data_locator = \"2021/12/08/demo-data.txt\"\n",
    "puzzle_data_locator = \"2021/12/08/puzzle-data.txt\"\n",
    "\n",
    "demo_data_URL = github_site_user + repository_branch + demo_data_locator\n",
    "puzzle_data_URL = github_site_user + repository_branch + puzzle_data_locator\n",
    "\n",
    "print(demo_data_URL)\n",
    "print(puzzle_data_URL)"
   ]
  },
  {
   "cell_type": "code",
   "execution_count": 2,
   "id": "09a23c7c",
   "metadata": {},
   "outputs": [],
   "source": [
    "def verbose_list(plist_string,max_elements = 5):\n",
    "    plist = eval(plist_string)\n",
    "    if len(plist) <= max_elements:\n",
    "        sub = f\"{plist}\"\n",
    "    elif max_elements < 2:\n",
    "        sub = f\"[{plist[0]}, ...]\"\n",
    "    else:\n",
    "        half_max = max_elements // 2\n",
    "        sub = \"[\"\n",
    "        for v in plist[0:half_max]:\n",
    "            sub += f\"{v}, \"\n",
    "        sub += \"... \"\n",
    "        for v in plist[-half_max:-1]:\n",
    "            sub += f\"{v}, \"\n",
    "        sub += f\"{plist[-1]}]\"\n",
    "        \n",
    "    print(f\"len({plist_string})={len(plist)}, {plist_string}={sub}\")"
   ]
  },
  {
   "cell_type": "code",
   "execution_count": 3,
   "id": "e89f736a",
   "metadata": {},
   "outputs": [
    {
     "name": "stdout",
     "output_type": "stream",
     "text": [
      "['be cfbegad cbdgef fgaecd cgeb fdcge agebfd fecdb fabcd edb | fdgacbe cefdb cefbgd gcbe', 'edbfga begcd cbg gc gcadebf fbgde acbgfd abcde gfcbed gfec | fcgedb cgb dgebacf gc', 'fgaebd cg bdaec gdafb agbcfd gdcbef bgcad gfac gcb cdgabef | cg cg fdcagb cbg', 'fbegcd cbd adcefb dageb afcb bc aefdc ecdab fgdeca fcdbega | efabcd cedba gadfec cb', 'aecbfdg fbg gf bafeg dbefa fcge gcbea fcaegb dgceab fcbdga | gecf egdcabf bgf bfgea', 'fgeab ca afcebg bdacfeg cfaedg gcfdb baec bfadeg bafgc acf | gebdcfa ecba ca fadegcb', 'dbcfg fgd bdegcaf fgec aegbdf ecdfab fbedc dacgb gdcebf gf | cefg dcbef fcge gbcadfe', 'bdfegc cbegaf gecbf dfcage bdacg ed bedf ced adcbefg gebcd | ed bcgafe cdgba cbgef', 'egadfb cdbfeg cegd fecab cgb gbdefca cg fgcdab egfdb bfceg | gbdfcae bgc cg cgb', 'gcafb gcf dcaebfg ecagb gf abcdeg gaef cafbge fdbac fegbdc | fgae cfgab fg bagce']\n",
      "[['be', 'cfbegad', 'cbdgef', 'fgaecd', 'cgeb', 'fdcge', 'agebfd', 'fecdb', 'fabcd', 'edb', 'fdgacbe', 'cefdb', 'cefbgd', 'gcbe'], ['edbfga', 'begcd', 'cbg', 'gc', 'gcadebf', 'fbgde', 'acbgfd', 'abcde', 'gfcbed', 'gfec', 'fcgedb', 'cgb', 'dgebacf', 'gc'], ['fgaebd', 'cg', 'bdaec', 'gdafb', 'agbcfd', 'gdcbef', 'bgcad', 'gfac', 'gcb', 'cdgabef', 'cg', 'cg', 'fdcagb', 'cbg']]\n",
      "len(demo_data)=10, demo_data=[['be', 'cfbegad', 'cbdgef', 'fgaecd', 'cgeb', 'fdcge', 'agebfd', 'fecdb', 'fabcd', 'edb', 'fdgacbe', 'cefdb', 'cefbgd', 'gcbe'], ['edbfga', 'begcd', 'cbg', 'gc', 'gcadebf', 'fbgde', 'acbgfd', 'abcde', 'gfcbed', 'gfec', 'fcgedb', 'cgb', 'dgebacf', 'gc'], ... ['egadfb', 'cdbfeg', 'cegd', 'fecab', 'cgb', 'gbdefca', 'cg', 'fgcdab', 'egfdb', 'bfceg', 'gbdfcae', 'bgc', 'cg', 'cgb'], ['gcafb', 'gcf', 'dcaebfg', 'ecagb', 'gf', 'abcdeg', 'gaef', 'cafbge', 'fdbac', 'fegbdc', 'fgae', 'cfgab', 'fg', 'bagce']]\n",
      "len(demo_data)=10, demo_data=[['be', 'cfbegad', 'cbdgef', 'fgaecd', 'cgeb', 'fdcge', 'agebfd', 'fecdb', 'fabcd', 'edb', 'fdgacbe', 'cefdb', 'cefbgd', 'gcbe'], ... ['gcafb', 'gcf', 'dcaebfg', 'ecagb', 'gf', 'abcdeg', 'gaef', 'cafbge', 'fdbac', 'fegbdc', 'fgae', 'cfgab', 'fg', 'bagce']]\n",
      "len(demo_data)=10, demo_data=[['be', 'cfbegad', 'cbdgef', 'fgaecd', 'cgeb', 'fdcge', 'agebfd', 'fecdb', 'fabcd', 'edb', 'fdgacbe', 'cefdb', 'cefbgd', 'gcbe'], ...]\n"
     ]
    }
   ],
   "source": [
    "demo_data_string = requests.get(demo_data_URL).text\n",
    "#demo_data = [int(v) for v in demo_data_string.split(seperator) if len(v.strip()) > 0]\n",
    "demo_lines = [v for v in demo_data_string.split(separator) if len(v.strip()) > 0]\n",
    "print(demo_lines)\n",
    "\n",
    "demo_data = []\n",
    "for l in range(len(demo_lines)):\n",
    "    line_data = [v.strip() for v in demo_lines[l].split(' ') if len(v.strip())>1]\n",
    "    demo_data.append(line_data)\n",
    "    \n",
    "print(demo_data[0:3])\n",
    "\n",
    "#verbose_list(\"demo_data\", 99)\n",
    "#verbose_list(\"demo_data\", 8)\n",
    "verbose_list(\"demo_data\") # defaults to 5\n",
    "verbose_list(\"demo_data\",2)\n",
    "verbose_list(\"demo_data\",0)"
   ]
  },
  {
   "cell_type": "code",
   "execution_count": 4,
   "id": "9d7ce995",
   "metadata": {},
   "outputs": [
    {
     "name": "stdout",
     "output_type": "stream",
     "text": [
      "[['febca', 'cfagb', 'ecbafd', 'efdcbg', 'cbegdfa', 'fg', 'bgafec', 'gfae', 'acgdb', 'gfc', 'cgf', 'facdeb', 'ecgfdb', 'afcbge'], ['acbed', 'dcagb', 'cfbega', 'ecgdab', 'be', 'deafc', 'bfgdca', 'abe', 'edafgbc', 'debg', 'dceab', 'dgbca', 'gedabc', 'fecabgd'], ['decfb', 'bgadec', 'dgefa', 'bcgfade', 'cae', 'adecf', 'ca', 'eacfdb', 'bcaf', 'dfgbec', 'bfca', 'fdacbge', 'cedfb', 'dfebac']]\n"
     ]
    }
   ],
   "source": [
    "puzzle_data_string = requests.get(puzzle_data_URL).text\n",
    "puzzle_lines = [v for v in puzzle_data_string.split(separator) if len(v.strip()) > 0]\n",
    "#print(puzzle_lines)\n",
    "\n",
    "puzzle_data = []\n",
    "for l in range(len(puzzle_lines)):\n",
    "    line_data = [v.strip() for v in puzzle_lines[l].split(' ') if len(v.strip())>1]\n",
    "    puzzle_data.append(line_data)\n",
    "    \n",
    "print(puzzle_data[0:3])\n",
    "# puzzle_data = [int(v) for v in puzzle_data_string.split(seperator) if len(v.strip()) > 0]\n",
    "# verbose_list(\"puzzle_data\")"
   ]
  },
  {
   "cell_type": "code",
   "execution_count": 5,
   "id": "bdb85880",
   "metadata": {},
   "outputs": [
    {
     "name": "stdout",
     "output_type": "stream",
     "text": [
      "[['be', 'cfbegad', 'cbdgef', 'fgaecd', 'cgeb', 'fdcge', 'agebfd', 'fecdb', 'fabcd', 'edb'], ['edbfga', 'begcd', 'cbg', 'gc', 'gcadebf', 'fbgde', 'acbgfd', 'abcde', 'gfcbed', 'gfec'], ['fgaebd', 'cg', 'bdaec', 'gdafb', 'agbcfd', 'gdcbef', 'bgcad', 'gfac', 'gcb', 'cdgabef']]\n",
      "[['fdgacbe', 'cefdb', 'cefbgd', 'gcbe'], ['fcgedb', 'cgb', 'dgebacf', 'gc'], ['cg', 'cg', 'fdcagb', 'cbg']]\n"
     ]
    }
   ],
   "source": [
    "output = []\n",
    "notes = []\n",
    "use_data = puzzle_data if use_real_puzzle_data else demo_data\n",
    "for l in use_data:\n",
    "    output.append(l[10:14])\n",
    "    notes.append(l[0:10])\n",
    "print(notes[0:3])\n",
    "print(output[0:3])"
   ]
  },
  {
   "cell_type": "code",
   "execution_count": 6,
   "id": "b5f4ff0f",
   "metadata": {},
   "outputs": [
    {
     "name": "stdout",
     "output_type": "stream",
     "text": [
      "\n",
      "---> Puzzle Part 1 result = 26\n"
     ]
    }
   ],
   "source": [
    "count = 0\n",
    "for l in output:\n",
    "    for o in l:\n",
    "        if len(o) in [2,4,3,7]:\n",
    "            count += 1\n",
    "print(f\"\\n---> Puzzle Part 1 result = {count}\")"
   ]
  },
  {
   "cell_type": "code",
   "execution_count": 7,
   "id": "3c811e20",
   "metadata": {},
   "outputs": [],
   "source": [
    "seven_seqment = \"\"\"\n",
    "0:      1:      2:      3:      4:\n",
    " aaaa    ....    aaaa    aaaa    ....\n",
    "b    c  .    c  .    c  .    c  b    c\n",
    "b    c  .    c  .    c  .    c  b    c\n",
    " ....    ....    dddd    dddd    dddd\n",
    "e    f  .    f  e    .  .    f  .    f\n",
    "e    f  .    f  e    .  .    f  .    f\n",
    " gggg    ....    gggg    gggg    ....\n",
    "\n",
    "  5:      6:      7:      8:      9:\n",
    " aaaa    aaaa    aaaa    aaaa    aaaa\n",
    "b    .  b    .  .    c  b    c  b    c\n",
    "b    .  b    .  .    c  b    c  b    c\n",
    " dddd    dddd    ....    dddd    dddd\n",
    ".    f  e    f  .    f  e    f  .    f\n",
    ".    f  e    f  .    f  e    f  .    f\n",
    " gggg    gggg    ....    gggg    gggg\n",
    "\"\"\"\n",
    "digits=[\"abcefg\",\"cf\",\"acdeg\",\"acdfg\",\"bcdf\",\n",
    "        \"abdfg\",\"abdefg\",\"acf\",\"abcdefg\",\"abcdfg\"]\n",
    "dig = [set(v) for v in digits]\n"
   ]
  },
  {
   "cell_type": "code",
   "execution_count": 8,
   "id": "057f63ec",
   "metadata": {},
   "outputs": [
    {
     "name": "stdout",
     "output_type": "stream",
     "text": [
      "['be', 'cfbegad', 'cbdgef', 'fgaecd', 'cgeb', 'fdcge', 'agebfd', 'fecdb', 'fabcd', 'edb']\n",
      "['fdgacbe', 'cefdb', 'cefbgd', 'gcbe']\n"
     ]
    }
   ],
   "source": [
    "print(notes[0])\n",
    "print(output[0])"
   ]
  },
  {
   "cell_type": "code",
   "execution_count": 9,
   "id": "c12f235d",
   "metadata": {},
   "outputs": [
    {
     "name": "stdout",
     "output_type": "stream",
     "text": [
      "5438904205552220048\n"
     ]
    }
   ],
   "source": [
    "def hashset(s):\n",
    "    return hash(''.join(sorted(s)))\n",
    "\n",
    "print(hashset(dig[0])) # sanity check"
   ]
  },
  {
   "cell_type": "code",
   "execution_count": 10,
   "id": "37cb4df4",
   "metadata": {},
   "outputs": [
    {
     "name": "stdout",
     "output_type": "stream",
     "text": [
      "{3951364767731101061: 0, 2896169608692407827: 1, -7010556755178795079: 2, 4783525478694427057: 3, 2127920151796673091: 4, 6548313504601006324: 5, -979789414977603632: 6, 8602847345075950294: 7, -4911562164620764175: 8, -1748719427141456387: 9}\n"
     ]
    }
   ],
   "source": [
    "def decode(note):\n",
    "    \n",
    "    nn = sorted(note,key=len)\n",
    "    dd = {}\n",
    "    \n",
    "    dd['#1'] = nn[0]\n",
    "    dd['#7'] = nn[1]\n",
    "    dd['#4'] = nn[2]\n",
    "    dd['#8'] = nn[9]\n",
    "    \n",
    "    L5 = nn[3:6]\n",
    "    N3 = [n for n in L5 if len(set(n) & set(nn[0])) == 2][0]\n",
    "    L5.remove(N3)\n",
    "    dd['#3'] = N3\n",
    "    \n",
    "    L6 = nn[6:9]\n",
    "    N6 = [n for n in L6 if len(set(n) & set(nn[0])) == 1][0]\n",
    "    L6.remove(N6)\n",
    "    dd['#6'] = N6\n",
    "        \n",
    "    N2 = [n for n in L5 if len(set(n) & set(nn[2])) == 2][0]\n",
    "    dd['#2'] = N2\n",
    "    L5.remove(N2)\n",
    "    dd['#5'] = L5[0]\n",
    "    \n",
    "    N9 = [n for n in L6 if len(set(n) & set(nn[2])) == 4][0]\n",
    "    dd['#9'] = N9\n",
    "    L6.remove(N9)\n",
    "    dd['#0'] = L6[0]\n",
    "    \n",
    "    rr = {}\n",
    "    for r in range(len(dd)):\n",
    "        ss = set(dd[f\"#{r}\"])\n",
    "        #rr[r] = ss\n",
    "        h = hashset(ss)\n",
    "        rr[h] = r\n",
    "    return rr\n",
    "\n",
    "print(decode(notes[0]))"
   ]
  },
  {
   "cell_type": "code",
   "execution_count": 11,
   "id": "3fd73bc8",
   "metadata": {},
   "outputs": [
    {
     "name": "stdout",
     "output_type": "stream",
     "text": [
      "[8394, 9781, 1197, 9361, 4873, 8418, 4548, 1625, 8717, 4315]\n",
      "\n",
      "---> Puzzle Part 2 result = 61229\n"
     ]
    }
   ],
   "source": [
    "total = 0\n",
    "results = []\n",
    "for n in range(len(notes)):\n",
    "    nn = notes[n]\n",
    "    dd = decode(nn)\n",
    "    #print(dd)\n",
    "    \n",
    "    oo = output[n]\n",
    "    num = 0\n",
    "    for o in oo:\n",
    "        h = hashset(set(o))\n",
    "        num *= 10\n",
    "        num += dd[h]\n",
    "    #print(num)\n",
    "    results.append(num)\n",
    "    total += num\n",
    "print(results)\n",
    "print(f\"\\n---> Puzzle Part 2 result = {sum(results)}\")"
   ]
  }
 ],
 "metadata": {
  "kernelspec": {
   "display_name": "Python 3 (ipykernel)",
   "language": "python",
   "name": "python3"
  },
  "language_info": {
   "codemirror_mode": {
    "name": "ipython",
    "version": 3
   },
   "file_extension": ".py",
   "mimetype": "text/x-python",
   "name": "python",
   "nbconvert_exporter": "python",
   "pygments_lexer": "ipython3",
   "version": "3.9.2+"
  }
 },
 "nbformat": 4,
 "nbformat_minor": 5
}
