{
 "cells": [
  {
   "cell_type": "code",
   "execution_count": 25,
   "id": "7a151839",
   "metadata": {},
   "outputs": [],
   "source": [
    "from random import randint"
   ]
  },
  {
   "cell_type": "code",
   "execution_count": 26,
   "id": "faea90f0",
   "metadata": {},
   "outputs": [],
   "source": [
    "test = [randint(0,7) for i in range(8000)]"
   ]
  },
  {
   "cell_type": "code",
   "execution_count": 27,
   "id": "3089a414",
   "metadata": {},
   "outputs": [],
   "source": [
    "counts = [test.count(i) for i in range(10)]"
   ]
  },
  {
   "cell_type": "code",
   "execution_count": 30,
   "id": "656b905b",
   "metadata": {},
   "outputs": [],
   "source": [
    "ops = [\"summation\",\"product\",\"minimum\",\"maximum\",\"literal\",\"less_than\",\"greater_than\",\"equality\"]"
   ]
  },
  {
   "cell_type": "code",
   "execution_count": null,
   "id": "71ba62a0",
   "metadata": {},
   "outputs": [],
   "source": [
    "def gen_literal(number):\n",
    "    "
   ]
  },
  {
   "cell_type": "code",
   "execution_count": 31,
   "id": "61fc910b",
   "metadata": {},
   "outputs": [
    {
     "data": {
      "text/plain": [
       "8"
      ]
     },
     "execution_count": 31,
     "metadata": {},
     "output_type": "execute_result"
    }
   ],
   "source": [
    "def gen_packet(depth):\n",
    "    \n",
    "    bits = 0\n",
    "    \n",
    "    version = randint(0,7)\n",
    "    bits += 3\n",
    "    \n",
    "    operation = randint(0,7)\n",
    "    bits += 3\n",
    "    "
   ]
  }
 ],
 "metadata": {
  "kernelspec": {
   "display_name": "Python 3 (ipykernel)",
   "language": "python",
   "name": "python3"
  },
  "language_info": {
   "codemirror_mode": {
    "name": "ipython",
    "version": 3
   },
   "file_extension": ".py",
   "mimetype": "text/x-python",
   "name": "python",
   "nbconvert_exporter": "python",
   "pygments_lexer": "ipython3",
   "version": "3.9.2+"
  }
 },
 "nbformat": 4,
 "nbformat_minor": 5
}
