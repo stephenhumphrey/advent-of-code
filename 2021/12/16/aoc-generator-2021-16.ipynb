   "execution_count": null,
   "id": "71ba62a0",
   "metadata": {},
   "outputs": [],
   "source": [
    "def gen_literal(number):\n",
    "    "
   ]
  },
  {
   "cell_type": "code",
   "execution_count": 31,
   "id": "61fc910b",
   "metadata": {},
   "outputs": [
    {
     "data": {
      "text/plain": [
       "8"
      ]
     },
     "execution_count": 31,
     "metadata": {},
     "output_type": "execute_result"
    }
   ],
   "source": [
    "def gen_packet(depth):\n",
    "    \n",
    "    bits = 0\n",
    "    \n",
    "    version = randint(0,7)\n",
    "    bits += 3\n",
    "    \n",
    "    operation = randint(0,7)\n",
    "    bits += 3\n",
    "    "
   ]
  }
 ],
 "metadata": {
  "kernelspec": {
   "display_name": "Python 3 (ipykernel)",
   "language": "python",
   "name": "python3"
  },
  "language_info": {
   "codemirror_mode": {
    "name": "ipython",
    "version": 3
   },
   "file_extension": ".py",
   "mimetype": "text/x-python",
   "name": "python",
   "nbconvert_exporter": "python",
   "pygments_lexer": "ipython3",
   "version": "3.9.2+"
  }
 },
 "nbformat": 4,
 "nbformat_minor": 5
}
