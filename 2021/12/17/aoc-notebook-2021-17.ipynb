{
 "cells": [
  {
   "cell_type": "code",
   "execution_count": 1,
   "metadata": {},
   "outputs": [],
   "source": [
    "demo_input = \"\"\"x=20..30, y=-10..-5\"\"\"\n",
    "demo = ((20,30),(-10,-5))\n",
    "demo_trajectories = [(7,2),(6,3),(9,0),(17,-4),(6,9)]"
   ]
  },
  {
   "cell_type": "code",
   "execution_count": 2,
   "metadata": {},
   "outputs": [],
   "source": [
    "puzzle_input = \"\"\"x=207..263, y=-115..-63\"\"\"\n",
    "puzzle = ((207,263),(-115,-63))\n",
    "\n",
    "targets = [demo,puzzle]\n",
    "target = targets[0]"
   ]
  },
  {
   "cell_type": "code",
   "execution_count": 3,
   "metadata": {},
   "outputs": [
    {
     "name": "stdout",
     "output_type": "stream",
     "text": [
      "(20, 30, -10, -5) (25, -8)\n"
     ]
    }
   ],
   "source": [
    "def center(target):\n",
    "    x_min,x_max,y_min,y_max = components(target)\n",
    "    center = ((x_min + x_max) // 2, (y_min + y_max) // 2)\n",
    "\n",
    "    return center\n",
    "    \n",
    "def components(target):\n",
    "    x_range, y_range = target\n",
    "    x_min, x_max = x_range\n",
    "    y_min, y_max = y_range\n",
    "    \n",
    "    return x_min,x_max,y_min,y_max\n",
    "\n",
    "print( components(target), center(target) )"
   ]
  },
  {
   "cell_type": "code",
   "execution_count": 4,
   "metadata": {},
   "outputs": [
    {
     "name": "stdout",
     "output_type": "stream",
     "text": [
      "in_target(target,center) = True, should be True\n"
     ]
    }
   ],
   "source": [
    "def in_target(target,position):\n",
    "    x_min,x_max,y_min,y_max = components(target)\n",
    "    x,y = position\n",
    "    return x >= x_min and x <= x_max and y >= y_min and y <= y_max\n",
    "\n",
    "print(f\"in_target(target,center) = {in_target(target,center(target))}, should be True\")"
   ]
  },
  {
   "cell_type": "code",
   "execution_count": 5,
   "metadata": {},
   "outputs": [
    {
     "name": "stdout",
     "output_type": "stream",
     "text": [
      "missed_target(target,(25, -8)) = False, should be False\n",
      "((20, 30), (-10, -5)) (8, -2)\n",
      "missed_target(target,(8, -2)) = False\n",
      "missed_target(target,(16, -4)) = False\n",
      "missed_target(target,(24, -6)) = False\n",
      "missed_target(target,(32, -8)) = True\n",
      "((20, 30), (-10, -5)) (3, -3)\n",
      "missed_target(target,(3, -3)) = False\n",
      "missed_target(target,(6, -6)) = False\n",
      "missed_target(target,(9, -9)) = False\n",
      "missed_target(target,(12, -12)) = True\n"
     ]
    }
   ],
   "source": [
    "def missed_target(target,position):\n",
    "    x_min,x_max,y_min,y_max = components(target)\n",
    "    x,y = position\n",
    "    return x > x_max or y < y_min\n",
    "\n",
    "position = center(target)\n",
    "print(f\"missed_target(target,{position}) = {missed_target(target,position)}, should be False\")\n",
    "\n",
    "start = center(target)\n",
    "deltas = [ (start[0] // 3,start[1] // 7), (start[0] // 7,start[1] // 3) ]\n",
    "for delta in deltas:\n",
    "    print(target,delta)\n",
    "    position = (0,0)\n",
    "    missed = False\n",
    "    while not missed:\n",
    "        position = (position[0] + delta[0], position[1] + delta[1])\n",
    "        missed = missed_target(target,position)\n",
    "        print(f\"missed_target(target,{position}) = {missed}\")\n"
   ]
  },
  {
   "cell_type": "code",
   "execution_count": 6,
   "metadata": {},
   "outputs": [],
   "source": [
    "notes = \"\"\"\n",
    "The probe's x position increases by its x velocity.\n",
    "The probe's y position increases by its y velocity.\n",
    "Due to drag, the probe's x velocity changes by 1 toward the value 0; that is, it decreases by 1 if it is greater than 0, increases by 1 if it is less than 0, or does not change if it is already 0.\n",
    "Due to gravity, the probe's y velocity decreases by 1\n",
    "\"\"\""
   ]
  },
  {
   "cell_type": "code",
   "execution_count": 7,
   "metadata": {},
   "outputs": [
    {
     "name": "stdout",
     "output_type": "stream",
     "text": [
      "hit (7, 2) --> 3 [(7, 2), (13, 3), (18, 3), (22, 2), (25, 0), (27, -3), (28, -7)]\n",
      "hit (6, 3) --> 6 [(6, 3), (11, 5), (15, 6), (18, 6), (20, 5), (21, 3), (21, 0), (21, -4), (21, -9)]\n",
      "hit (9, 0) --> 0 [(9, 0), (17, -1), (24, -3), (30, -6)]\n",
      "missed (17, -4) --> -4 [(17, -4), (33, -9)]\n",
      "hit (6, 9) --> 45 [(6, 9), (11, 17), (15, 24), (18, 30), (20, 35), (21, 39), (21, 42), (21, 44), (21, 45), (21, 45), (21, 44), (21, 42), (21, 39), (21, 35), (21, 30), (21, 24), (21, 17), (21, 9), (21, 0), (21, -10)]\n"
     ]
    }
   ],
   "source": [
    "def test_trajectory(target,initial_trajectory):\n",
    "    \n",
    "    trajectory = initial_trajectory\n",
    "    hit = False\n",
    "    missed = False\n",
    "    position = (0,0)\n",
    "    positions = []\n",
    "    while not hit and not missed:\n",
    "        dx,dy = trajectory\n",
    "        position = (position[0] + dx,position[1] + dy)\n",
    "        positions.append(position)\n",
    "        signx = 0 if dx == 0 else dx // dx\n",
    "        dx -= signx\n",
    "        dy -= 1\n",
    "        trajectory = (dx,dy)\n",
    "        \n",
    "        if in_target(target,position):\n",
    "            hit = True\n",
    "        elif missed_target(target,position):\n",
    "            missed = True\n",
    "    \n",
    "    return hit,positions\n",
    "\n",
    "for initial_trajectory in demo_trajectories:\n",
    "    hit,positions = test_trajectory(target,initial_trajectory)\n",
    "    max_y = max([y for x,y in positions])\n",
    "    print(\"hit\" if hit else \"missed\",initial_trajectory,\"-->\",max_y,positions)\n",
    "    "
   ]
  },
  {
   "cell_type": "code",
   "execution_count": 8,
   "metadata": {},
   "outputs": [
    {
     "name": "stdout",
     "output_type": "stream",
     "text": [
      "Target ((20, 30), (-10, -5)) Trajectory (6, 9) (of 112 which hit) reaches MaxY = 45\n",
      "Target ((207, 263), (-115, -63)) Trajectory (20, 114) (of 4973 which hit) reaches MaxY = 6555\n"
     ]
    }
   ],
   "source": [
    "for target in targets:\n",
    "    \n",
    "    x_min,x_max,y_min,y_max = components(target)\n",
    "    maximum_y = y_max\n",
    "    maximum_trajectory = (0,0)\n",
    "    target_center = center(target)\n",
    "    cx,cy = target_center\n",
    "    cx *= 3\n",
    "    cy *= 3\n",
    "    hit_count, missed_count = (0,0)\n",
    "    for dx in range(1,max(1,cx)):\n",
    "        for dy in range(min(cy,-cy),max(cy,-cy)):\n",
    "            initial_trajectory = (dx,dy)\n",
    "            hit,positions = test_trajectory(target,initial_trajectory)\n",
    "            \n",
    "            if hit:\n",
    "                hit_count += 1\n",
    "                max_y = max([y for x,y in positions])\n",
    "                #print(\"hit\" if hit else \"missed\",initial_trajectory,\"-->\",max_y,positions)\n",
    "                if max_y > maximum_y:\n",
    "                    maximum_y = max_y\n",
    "                    maximum_trajectory = initial_trajectory\n",
    "            else:\n",
    "                #print(\"missed\",initial_trajectory)\n",
    "                missed_count += 1\n",
    "                \n",
    "    print(f\"Target {target} Trajectory {maximum_trajectory} (of {hit_count} which hit) reaches MaxY = {maximum_y}\")"
   ]
  }
 ],
 "metadata": {
  "kernelspec": {
   "display_name": "Python 3 (ipykernel)",
   "language": "python",
   "name": "python3"
  },
  "language_info": {
   "codemirror_mode": {
    "name": "ipython",
    "version": 3
   },
   "file_extension": ".py",
   "mimetype": "text/x-python",
   "name": "python",
   "nbconvert_exporter": "python",
   "pygments_lexer": "ipython3",
   "version": "3.9.2+"
  }
 },
 "nbformat": 4,
 "nbformat_minor": 2
}
