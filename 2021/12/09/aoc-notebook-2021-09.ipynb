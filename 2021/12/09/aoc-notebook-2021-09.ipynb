{
 "cells": [
  {
   "cell_type": "code",
   "execution_count": 1,
   "id": "8a878628",
   "metadata": {},
   "outputs": [
    {
     "name": "stdout",
     "output_type": "stream",
     "text": [
      "https://raw.githubusercontent.com/stephenhumphrey/advent-of-code/main/2021/12/09/demo-data.txt\n",
      "https://raw.githubusercontent.com/stephenhumphrey/advent-of-code/main/2021/12/09/puzzle-data.txt\n"
     ]
    }
   ],
   "source": [
    "import requests\n",
    "\n",
    "use_real_puzzle_data = False # else use demo data\n",
    "separator = '\\n' if True else ','\n",
    "\n",
    "github_site_user = \"https://raw.githubusercontent.com/stephenhumphrey/\"\n",
    "repository_branch = \"advent-of-code/main/\"\n",
    "advent_of_code_date = \"2021/12/09/\"\n",
    "demo_data_locator = \"demo-data.txt\"\n",
    "puzzle_data_locator = \"puzzle-data.txt\"\n",
    "\n",
    "prefix = github_site_user + repository_branch + advent_of_code_date\n",
    "demo_data_URL = prefix + demo_data_locator\n",
    "puzzle_data_URL = prefix + puzzle_data_locator\n",
    "\n",
    "print(demo_data_URL)\n",
    "print(puzzle_data_URL)"
   ]
  },
  {
   "cell_type": "code",
   "execution_count": 2,
   "id": "6c09319e",
   "metadata": {},
   "outputs": [
    {
     "name": "stdout",
     "output_type": "stream",
     "text": [
      "len(test_verbose)=9, test_verbose=[1, 2, ... 8, 9]\n"
     ]
    }
   ],
   "source": [
    "def verbose_list(plist_string,max_elements = 5):\n",
    "    # local version of a utility to pretty-print big arrays\n",
    "    plist = eval(plist_string)\n",
    "    if len(plist) <= max_elements:\n",
    "        sub = f\"{plist}\"\n",
    "    elif max_elements < 2:\n",
    "        sub = f\"[{plist[0]}, ...]\"\n",
    "    else:\n",
    "        half_max = max_elements // 2\n",
    "        sub = \"[\"\n",
    "        for v in plist[0:half_max]:\n",
    "            sub += f\"{v}, \"\n",
    "        sub += \"... \"\n",
    "        for v in plist[-half_max:-1]:\n",
    "            sub += f\"{v}, \"\n",
    "        sub += f\"{plist[-1]}]\"\n",
    "        \n",
    "    print(f\"len({plist_string})={len(plist)}, {plist_string}={sub}\")\n",
    "\n",
    "test_verbose = [1,2,3,4,5,6,7,8,9]\n",
    "verbose_list(\"test_verbose\")"
   ]
  },
  {
   "cell_type": "code",
   "execution_count": 3,
   "id": "931a2060",
   "metadata": {},
   "outputs": [
    {
     "name": "stdout",
     "output_type": "stream",
     "text": [
      "[[99, 99, 99, 99, 99], [99, 1, 2, 3, 99], [99, 4, 5, 6, 99], [99, 99, 99, 99, 99]]\n"
     ]
    }
   ],
   "source": [
    "def parse_data_string(ds):\n",
    "    lines = [v for v in ds.split(separator) if len(v.strip()) > 0]\n",
    "    #print(lines)\n",
    "    \n",
    "    sentinel = 99 # wrap the given map boundaries in sentinels of level 99\n",
    "    data = [[sentinel]] \n",
    "    for line in lines:\n",
    "        line_data = [int(v) for v in line]\n",
    "        data.append([sentinel]+line_data+[sentinel])\n",
    "    data.append([sentinel] * (len(line) + 2))\n",
    "    data[0] = [sentinel] * (len(line) + 2)\n",
    "    \n",
    "    return data\n",
    "\n",
    "print( parse_data_string(\"123\\n456\") )"
   ]
  },
  {
   "cell_type": "code",
   "execution_count": 4,
   "id": "d58ed91e",
   "metadata": {},
   "outputs": [
    {
     "name": "stdout",
     "output_type": "stream",
     "text": [
      "demo_data dimensions = (12,7)\n",
      "len(demo_data)=7, demo_data=[[99, 99, 99, 99, 99, 99, 99, 99, 99, 99, 99, 99], [99, 2, 1, 9, 9, 9, 4, 3, 2, 1, 0, 99], ... [99, 9, 8, 9, 9, 9, 6, 5, 6, 7, 8, 99], [99, 99, 99, 99, 99, 99, 99, 99, 99, 99, 99, 99]]\n"
     ]
    }
   ],
   "source": [
    "demo_data_string = requests.get(demo_data_URL).text\n",
    "demo_data = parse_data_string( demo_data_string )\n",
    "\n",
    "print(f\"demo_data dimensions = ({len(demo_data[0])},{len(demo_data)})\")\n",
    "verbose_list(\"demo_data\") # defaults to 5"
   ]
  },
  {
   "cell_type": "code",
   "execution_count": 5,
   "id": "7e1edf32",
   "metadata": {},
   "outputs": [
    {
     "name": "stdout",
     "output_type": "stream",
     "text": [
      "puzzle_data dimensions = (102,102)\n",
      "len(puzzle_data)=102, puzzle_data=[[99, 99, 99, 99, 99, 99, 99, 99, 99, 99, 99, 99, 99, 99, 99, 99, 99, 99, 99, 99, 99, 99, 99, 99, 99, 99, 99, 99, 99, 99, 99, 99, 99, 99, 99, 99, 99, 99, 99, 99, 99, 99, 99, 99, 99, 99, 99, 99, 99, 99, 99, 99, 99, 99, 99, 99, 99, 99, 99, 99, 99, 99, 99, 99, 99, 99, 99, 99, 99, 99, 99, 99, 99, 99, 99, 99, 99, 99, 99, 99, 99, 99, 99, 99, 99, 99, 99, 99, 99, 99, 99, 99, 99, 99, 99, 99, 99, 99, 99, 99, 99, 99], [99, 8, 6, 5, 6, 4, 5, 6, 7, 8, 9, 4, 3, 2, 1, 2, 9, 8, 7, 6, 5, 3, 2, 3, 5, 6, 7, 8, 9, 8, 9, 9, 9, 9, 8, 7, 5, 4, 3, 2, 0, 1, 4, 6, 7, 8, 9, 7, 6, 7, 8, 9, 3, 2, 1, 3, 4, 6, 8, 9, 5, 3, 2, 0, 5, 4, 5, 9, 3, 2, 3, 9, 9, 7, 6, 7, 8, 9, 0, 1, 9, 9, 7, 6, 5, 5, 4, 2, 3, 5, 6, 7, 7, 9, 7, 6, 5, 5, 6, 6, 7, 99], ... [99, 9, 9, 9, 9, 9, 9, 8, 9, 3, 1, 2, 3, 4, 5, 8, 9, 9, 9, 7, 5, 2, 3, 5, 6, 7, 8, 9, 4, 3, 2, 4, 5, 7, 8, 9, 9, 9, 8, 4, 3, 7, 5, 6, 7, 8, 9, 2, 3, 4, 5, 7, 9, 9, 9, 7, 8, 7, 6, 8, 9, 9, 9, 8, 7, 6, 5, 4, 5, 7, 4, 5, 9, 7, 8, 9, 4, 2, 1, 2, 9, 9, 8, 9, 8, 9, 6, 5, 3, 3, 4, 5, 9, 8, 9, 9, 8, 7, 8, 9, 0, 99], [99, 99, 99, 99, 99, 99, 99, 99, 99, 99, 99, 99, 99, 99, 99, 99, 99, 99, 99, 99, 99, 99, 99, 99, 99, 99, 99, 99, 99, 99, 99, 99, 99, 99, 99, 99, 99, 99, 99, 99, 99, 99, 99, 99, 99, 99, 99, 99, 99, 99, 99, 99, 99, 99, 99, 99, 99, 99, 99, 99, 99, 99, 99, 99, 99, 99, 99, 99, 99, 99, 99, 99, 99, 99, 99, 99, 99, 99, 99, 99, 99, 99, 99, 99, 99, 99, 99, 99, 99, 99, 99, 99, 99, 99, 99, 99, 99, 99, 99, 99, 99, 99]]\n"
     ]
    }
   ],
   "source": [
    "puzzle_data_string = requests.get(puzzle_data_URL).text\n",
    "puzzle_data = parse_data_string( puzzle_data_string )\n",
    "\n",
    "print(f\"puzzle_data dimensions = ({len(puzzle_data[0])},{len(puzzle_data)})\")\n",
    "verbose_list(\"puzzle_data\",4)"
   ]
  },
  {
   "cell_type": "code",
   "execution_count": 6,
   "id": "3e823d05",
   "metadata": {},
   "outputs": [
    {
     "name": "stdout",
     "output_type": "stream",
     "text": [
      "is_localized_minimum(demo_data,2,3)=False, should be False\n",
      "is_localized_minimum(demo_data,2,1)=True, should be True\n"
     ]
    }
   ],
   "source": [
    "def is_localized_minimum(d,x,y):\n",
    "    level = d[y][x]\n",
    "    #print(f\"({x},{y}) = {h}\")\n",
    "    for (dx, dy) in [(-1,0),(0,-1),(1,0),(0,1)]:\n",
    "        if d[y + dy][x + dx] <= level:\n",
    "            return False\n",
    "    return True\n",
    "\n",
    "print(f\"{is_localized_minimum(demo_data,2,3)=}, should be False\")\n",
    "print(f\"{is_localized_minimum(demo_data,2,1)=}, should be True\")"
   ]
  },
  {
   "cell_type": "code",
   "execution_count": 7,
   "id": "0e9d1a81",
   "metadata": {},
   "outputs": [],
   "source": [
    "data = puzzle_data if use_real_puzzle_data else demo_data"
   ]
  },
  {
   "cell_type": "code",
   "execution_count": 8,
   "id": "08cdbcf3",
   "metadata": {},
   "outputs": [
    {
     "name": "stdout",
     "output_type": "stream",
     "text": [
      "99  99  99  99  99  99  99  99  99  99  99  99  \n",
      "99   2   1   9   9   9   4   3   2   1   0  99  \n",
      "99   3   9   8   7   8   9   4   9   2   1  99  \n",
      "99   9   8   5   6   7   8   9   8   9   2  99  \n",
      "99   8   7   6   7   8   9   6   7   8   9  99  \n",
      "99   9   8   9   9   9   6   5   6   7   8  99  \n",
      "99  99  99  99  99  99  99  99  99  99  99  99  \n"
     ]
    }
   ],
   "source": [
    "if not use_real_puzzle_data:\n",
    "    for yrow in data:\n",
    "        line = \"\"\n",
    "        for xval in yrow:\n",
    "            line += f\"{xval:2}  \"\n",
    "        print( line )"
   ]
  },
  {
   "cell_type": "code",
   "execution_count": 9,
   "id": "ab406c9d",
   "metadata": {},
   "outputs": [
    {
     "name": "stdout",
     "output_type": "stream",
     "text": [
      "Answer to Day 8, Part 1: 15\n",
      "len(minima)=4, minima=[(2, 1), (10, 1), (3, 3), (7, 5)]\n"
     ]
    }
   ],
   "source": [
    "output = []\n",
    "minima = []\n",
    "\n",
    "for y in range( 1, len(data) - 1 ):\n",
    "    for x in range( 1, len(data[0]) - 1 ):\n",
    "        if is_localized_minimum( data, x, y ):\n",
    "            minima.append( (x,y) )\n",
    "            # print(f\"minimum at ({x},{y}) --> {data[y][x]}\")\n",
    "            output.append( data[y][x] )\n",
    "\n",
    "print(f\"Answer to Day 8, Part 1: {sum(output) + len(output)}\")\n",
    "\n",
    "verbose_list(\"minima\")"
   ]
  },
  {
   "cell_type": "code",
   "execution_count": 10,
   "id": "97a047eb",
   "metadata": {},
   "outputs": [
    {
     "name": "stdout",
     "output_type": "stream",
     "text": [
      "len(process_node(demo_data, set([]), 10, 1))=9, should be 9\n"
     ]
    }
   ],
   "source": [
    "def process_node(data,prior_nodes,x,y):\n",
    "    \n",
    "    home = (x,y)\n",
    "    home_hash = hash(home)\n",
    "    if home_hash in prior_nodes:\n",
    "        return set([]) # empty set - this node is already processed\n",
    "    \n",
    "    bigset = prior_nodes | set([home_hash]) # add self node, now being processed\n",
    "    home_level = data[y][x]\n",
    "    \n",
    "    for (dx,dy) in [(-1,0),(0,-1),(1,0),(0,1)]:\n",
    "        neighbor_x = x + dx\n",
    "        neighbor_y = y + dy\n",
    "        neighbor_level = data[neighbor_y][neighbor_x]\n",
    "        \n",
    "        if neighbor_level < 9 and neighbor_level >= home_level:\n",
    "            bigset |= process_node( data, bigset, neighbor_x, neighbor_y )\n",
    "        \n",
    "    return bigset - prior_nodes\n",
    "\n",
    "print(f\"{len(process_node(demo_data, set([]), 10, 1))=}, should be 9\")"
   ]
  },
  {
   "cell_type": "code",
   "execution_count": 11,
   "id": "faf77077",
   "metadata": {},
   "outputs": [
    {
     "name": "stdout",
     "output_type": "stream",
     "text": [
      "len(sizes)=4, sizes=[14, 9, 9, 3]\n",
      "Answer to Day 8, Part 2: 1134\n"
     ]
    }
   ],
   "source": [
    "sizes = []\n",
    "for (x, y) in minima:\n",
    "    empty_set = set([])\n",
    "    basin_set = process_node( data, empty_set, x, y )\n",
    "    #print(len(basin_set))\n",
    "    sizes.append( len(basin_set) )\n",
    "\n",
    "sizes.sort( reverse = True )\n",
    "verbose_list( \"sizes\", 9 )\n",
    "\n",
    "biggest = sizes[0:3]\n",
    "multiple = biggest[0] * biggest[1] * biggest[2]\n",
    "\n",
    "print( f\"Answer to Day 8, Part 2: {multiple}\" )"
   ]
  }
 ],
 "metadata": {
  "kernelspec": {
   "display_name": "Python 3 (ipykernel)",
   "language": "python",
   "name": "python3"
  },
  "language_info": {
   "codemirror_mode": {
    "name": "ipython",
    "version": 3
   },
   "file_extension": ".py",
   "mimetype": "text/x-python",
   "name": "python",
   "nbconvert_exporter": "python",
   "pygments_lexer": "ipython3",
   "version": "3.9.2+"
  }
 },
 "nbformat": 4,
 "nbformat_minor": 5
}
